{
 "cells": [
  {
   "attachments": {},
   "cell_type": "markdown",
   "metadata": {},
   "source": [
    "# Limpieza de Base de Datos de Hechos Delictivos en Argentina (2017-2021)\n",
    "\n",
    "En este documento Markdown se describirá el proceso de limpieza de una base de datos de hechos delictivos ocurridos en Argentina durante el período comprendido entre los años 2017 y 2021. El objetivo de esta limpieza es obtener información relevante para responder las siguientes preguntas:\n",
    "\n",
    "- 1. ¿Cuál es la proporción de víctimas masculinas y femeninas en los delitos registrados?\n",
    "\n",
    "- 2. ¿Cuáles son los departamentos con mayor número de delitos?\n",
    "\n",
    "- 3. ¿Cuáles son los motivos más comunes que originaron el registro de un delito?\n",
    "\n",
    "- 4. ¿Existe alguna relación entre el mes del año y la cantidad de delitos?\n",
    "\n",
    "- 5. ¿Hay alguna relación entre el lugar y el género del inculpado?\n",
    "\n",
    "- 6. ¿Hay alguna relación entre el lugar y el género de la víctima?\n",
    "\n",
    "## Recopilación de la base de datos\n",
    "\n",
    "Se trabaja con una base de datos  sobre los hechos delictivos ocurridos en Argentina entre los años 2017 y 2021.\n",
    "\n",
    "## Analisis y Limpieza de datos\n",
    "\n",
    "- Analizar los tipos de datos presentes en el dataframe y realizar una primera visualización para obtener una visión general de los datos.\n",
    "\n",
    "### Información del dataframe y verificación de datos nulos\n",
    "\n",
    "- Obtener información detallada sobre el dataframe, incluyendo la cantidad de datos en cada fila y la presencia de valores nulos, se puede utilizar el método `info()`. A continuación se muestra el código necesario:\n",
    "\n",
    "### Limpieza\n",
    "- Eliminar registros duplicados: Se eliminarán aquellos registros que sean duplicados para evitar distorsiones en los análisis posteriores.\n",
    "\n"
   ]
  },
  {
   "cell_type": "code",
   "execution_count": 8,
   "metadata": {},
   "outputs": [
    {
     "name": "stderr",
     "output_type": "stream",
     "text": [
      "/tmp/ipykernel_68092/751627683.py:3: DtypeWarning: Columns (8) have mixed types. Specify dtype option on import or set low_memory=False.\n",
      "  df = pd.read_csv(path)\n"
     ]
    }
   ],
   "source": [
    "import pandas as pd\n",
    "path = '../../datos/brutos/SAT-HD-BU_2017-2021.csv'\n",
    "df = pd.read_csv(path)"
   ]
  },
  {
   "attachments": {},
   "cell_type": "markdown",
   "metadata": {},
   "source": [
    "### Averiguo el tamaño del dataframe (Filas x Columnas)\n",
    "\n",
    "Para obtener el tamaño del dataframe y conocer la cantidad de filas y columnas, se puede utilizar la propiedad `shape` del dataframe. A continuación se muestra el código necesario:\n",
    "\n",
    "```python\n",
    "data.shape\n"
   ]
  },
  {
   "cell_type": "code",
   "execution_count": null,
   "metadata": {},
   "outputs": [],
   "source": [
    "df.shape ###( Filas x Columnas)"
   ]
  },
  {
   "cell_type": "code",
   "execution_count": null,
   "metadata": {},
   "outputs": [],
   "source": [
    "### Que tipos de datos tengo\n",
    "df.dtypes"
   ]
  },
  {
   "attachments": {},
   "cell_type": "markdown",
   "metadata": {},
   "source": [
    "### Visualización de las primeras filas del dataframe\n",
    "\n",
    "Para visualizar las primeras filas del dataframe y tener una idea de los datos que contiene, se puede utilizar el método `head()`. A continuación se muestra el código necesario:\n",
    "\n",
    "```python\n",
    "data.head()"
   ]
  },
  {
   "cell_type": "code",
   "execution_count": null,
   "metadata": {},
   "outputs": [],
   "source": [
    "df.head(10)"
   ]
  },
  {
   "attachments": {},
   "cell_type": "markdown",
   "metadata": {},
   "source": [
    "### Información del dataframe y verificación de datos nulos\n",
    "\n",
    "Para obtener información detallada sobre el dataframe, incluyendo la cantidad de datos en cada fila y la presencia de valores nulos, se puede utilizar el método `info()`. A continuación se muestra el código necesario:\n",
    "\n",
    "```python\n",
    "dataframe.info()"
   ]
  },
  {
   "cell_type": "code",
   "execution_count": null,
   "metadata": {},
   "outputs": [],
   "source": [
    "df.info()"
   ]
  },
  {
   "attachments": {},
   "cell_type": "markdown",
   "metadata": {},
   "source": [
    "# Elimino columnas innecesarias\n",
    "genero un dataframe para limpiar las columnas que no utilizaremos."
   ]
  },
  {
   "cell_type": "code",
   "execution_count": null,
   "metadata": {},
   "outputs": [],
   "source": [
    "df_limpio = df.drop(columns=['federal','Cod_INDEC_Prov','Cod_INDEC','departamento','codigo_localidad','radio_censal','latitud_radio','longitud_radio','otro_tipo_lugar','otro_clase_arma','otro_en_ocasion_otro_delito','otro_motivo_origen_registro','identidad_genero_victima','otro_identidad_genero_victima','otro_clase_victima','situacion_ocupacional_victima','otro_situacion_ocupacional_victi','identidad_genero_inculpado','otro_identidad_genero_inculpado','clase_inculpado','otro_clase_inculpado','cant_inc','clase_arma','en_ocasion_otro_delito','motivo_origen_registro','tipo_hecho_segun_victima','codigo_departamento'])"
   ]
  },
  {
   "cell_type": "code",
   "execution_count": null,
   "metadata": {},
   "outputs": [],
   "source": [
    "df_limpio.info()"
   ]
  },
  {
   "attachments": {},
   "cell_type": "markdown",
   "metadata": {},
   "source": [
    "### Elimino los registros - Al interesarme el aspecto de la victima elijo este registro\n",
    "\n",
    "Generamos un nuevo dataframe conservando todas las columnas del original, pero solo incluyendo las filas con valores \"Víctima\" en la columna 'tipo_persona' y 'sexo_victima'. Esto nos permite tener un \n",
    "\n",
    "dataframe con información unica en dicha columna."
   ]
  },
  {
   "cell_type": "code",
   "execution_count": null,
   "metadata": {},
   "outputs": [],
   "source": [
    "df_victimas = df[df['tipo_persona'] == 'Víctima'][['Id_hecho', 'tipo_persona','sexo_victima']]"
   ]
  },
  {
   "cell_type": "code",
   "execution_count": null,
   "metadata": {},
   "outputs": [],
   "source": [
    "df_victimas"
   ]
  },
  {
   "attachments": {},
   "cell_type": "markdown",
   "metadata": {},
   "source": [
    "### Guardado del CSV limpio\n"
   ]
  },
  {
   "cell_type": "code",
   "execution_count": null,
   "metadata": {},
   "outputs": [],
   "source": [
    "ruta_destino = \"../../datos/procesados/limpieza01_argentina_delitos.csv\"  # Ruta y nombre del archivo de destino\n",
    "df_limpio.to_csv(ruta_destino, index=False)"
   ]
  }
 ],
 "metadata": {
  "kernelspec": {
   "display_name": "Python 3",
   "language": "python",
   "name": "python3"
  },
  "language_info": {
   "codemirror_mode": {
    "name": "ipython",
    "version": 3
   },
   "file_extension": ".py",
   "mimetype": "text/x-python",
   "name": "python",
   "nbconvert_exporter": "python",
   "pygments_lexer": "ipython3",
   "version": "3.10.7"
  },
  "orig_nbformat": 4
 },
 "nbformat": 4,
 "nbformat_minor": 2
}

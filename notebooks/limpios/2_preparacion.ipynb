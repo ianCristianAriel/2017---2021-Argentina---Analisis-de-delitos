{
 "cells": [
  {
   "cell_type": "code",
   "execution_count": null,
   "metadata": {},
   "outputs": [],
   "source": [
    "import pandas as pd\n",
    "import numpy as np\n",
    "from IPython.display import display as disp"
   ]
  },
  {
   "cell_type": "code",
   "execution_count": 1,
   "metadata": {},
   "outputs": [
    {
     "ename": "NameError",
     "evalue": "name 'pd' is not defined",
     "output_type": "error",
     "traceback": [
      "\u001b[0;31m---------------------------------------------------------------------------\u001b[0m",
      "\u001b[0;31mNameError\u001b[0m                                 Traceback (most recent call last)",
      "\u001b[0;32m/tmp/ipykernel_69039/3454570039.py\u001b[0m in \u001b[0;36m<module>\u001b[0;34m\u001b[0m\n\u001b[0;32m----> 1\u001b[0;31m \u001b[0mdatos\u001b[0m \u001b[0;34m=\u001b[0m \u001b[0mpd\u001b[0m\u001b[0;34m.\u001b[0m\u001b[0mread_csv\u001b[0m\u001b[0;34m(\u001b[0m\u001b[0;34m\"../../datos/procesados/limpieza01_argentina_delitos.csv\"\u001b[0m\u001b[0;34m)\u001b[0m\u001b[0;34m\u001b[0m\u001b[0;34m\u001b[0m\u001b[0m\n\u001b[0m\u001b[1;32m      2\u001b[0m \u001b[0mdisp\u001b[0m\u001b[0;34m(\u001b[0m\u001b[0mdatos\u001b[0m\u001b[0;34m)\u001b[0m\u001b[0;34m\u001b[0m\u001b[0;34m\u001b[0m\u001b[0m\n",
      "\u001b[0;31mNameError\u001b[0m: name 'pd' is not defined"
     ]
    }
   ],
   "source": [
    "datos = pd.read_csv(\"../../datos/procesados/limpieza01_argentina_delitos.csv\")\n",
    "disp(datos)"
   ]
  },
  {
   "cell_type": "markdown",
   "metadata": {},
   "source": [
    "### Graficando los datos en escala original "
   ]
  },
  {
   "cell_type": "code",
   "execution_count": null,
   "metadata": {},
   "outputs": [],
   "source": [
    "import seaborn as sns\n",
    "import matplotlib.pyplot as plt\n",
    "import missingno as msno"
   ]
  },
  {
   "cell_type": "code",
   "execution_count": null,
   "metadata": {},
   "outputs": [],
   "source": [
    "fig = plt.figure(figsize=(15, 5))\n",
    "sns.pairplot(datos)\n",
    "plt.show()"
   ]
  },
  {
   "cell_type": "markdown",
   "metadata": {},
   "source": [
    "### Distribución de los datos originales"
   ]
  },
  {
   "cell_type": "code",
   "execution_count": null,
   "metadata": {},
   "outputs": [],
   "source": [
    "for column in datos.columns:\n",
    "    try:\n",
    "        sns.histplot(datos[column])\n",
    "        plt.show()\n",
    "    except:\n",
    "        continue"
   ]
  },
  {
   "attachments": {},
   "cell_type": "markdown",
   "metadata": {},
   "source": [
    "## Codificacion de datos categoricos"
   ]
  },
  {
   "cell_type": "code",
   "execution_count": null,
   "metadata": {},
   "outputs": [],
   "source": [
    "#Observacion de los tipos de datos por columna, con el fin de encontrar aquellas con datos categoricos/object\n",
    "print(datos.dtypes)"
   ]
  },
  {
   "cell_type": "markdown",
   "metadata": {},
   "source": [
    "### Categoricos ordinales"
   ]
  },
  {
   "cell_type": "code",
   "execution_count": null,
   "metadata": {},
   "outputs": [],
   "source": [
    "##No hay "
   ]
  },
  {
   "cell_type": "markdown",
   "metadata": {},
   "source": [
    "### Categoricos nominales"
   ]
  },
  {
   "cell_type": "code",
   "execution_count": null,
   "metadata": {},
   "outputs": [],
   "source": [
    "from sklearn.preprocessing import LabelEncoder"
   ]
  },
  {
   "cell_type": "code",
   "execution_count": null,
   "metadata": {},
   "outputs": [],
   "source": [
    "# Seleccionar las columnas de tipo object\n",
    "object_columns = datos.select_dtypes(include=['object']).columns.copy()\n",
    "\n",
    "# Iterar sobre las columnas seleccionadas y aplicar la codificación\n",
    "for column in object_columns:\n",
    "    encoder = LabelEncoder()\n",
    "    datos[column] = encoder.fit_transform(datos[column].astype(str))"
   ]
  },
  {
   "cell_type": "code",
   "execution_count": null,
   "metadata": {},
   "outputs": [],
   "source": [
    "datos"
   ]
  },
  {
   "attachments": {},
   "cell_type": "markdown",
   "metadata": {},
   "source": [
    "## Escalamiento"
   ]
  },
  {
   "cell_type": "markdown",
   "metadata": {},
   "source": [
    "# Escala en función del mínimo y máximo"
   ]
  },
  {
   "cell_type": "code",
   "execution_count": null,
   "metadata": {},
   "outputs": [],
   "source": [
    "from sklearn.preprocessing import MinMaxScaler"
   ]
  },
  {
   "cell_type": "code",
   "execution_count": null,
   "metadata": {},
   "outputs": [],
   "source": [
    "scaler = MinMaxScaler()\n",
    "scaled_data = scaler.fit_transform(datos)"
   ]
  },
  {
   "cell_type": "code",
   "execution_count": null,
   "metadata": {},
   "outputs": [],
   "source": [
    "# convierte vectores de numpy a DataFrames para graficarlos\n",
    "datos_escalados = pd.DataFrame(scaled_data, columns=datos.columns)"
   ]
  },
  {
   "cell_type": "code",
   "execution_count": null,
   "metadata": {},
   "outputs": [],
   "source": [
    "datos_escalados"
   ]
  },
  {
   "attachments": {},
   "cell_type": "markdown",
   "metadata": {},
   "source": [
    "## Reduccion de dimencionalidad"
   ]
  },
  {
   "attachments": {},
   "cell_type": "markdown",
   "metadata": {},
   "source": [
    "Se reduce la dimensionalidad del dataframe en base a las columnas que se utilizaran para responder cada pregunta"
   ]
  },
  {
   "attachments": {},
   "cell_type": "markdown",
   "metadata": {},
   "source": [
    "- 1. ¿Cuál es la proporción de víctimas masculinas y femeninas en los delitos registrados?"
   ]
  },
  {
   "cell_type": "code",
   "execution_count": null,
   "metadata": {},
   "outputs": [],
   "source": [
    "from sklearn.feature_selection import SelectPercentile, chi2"
   ]
  },
  {
   "cell_type": "code",
   "execution_count": 14,
   "metadata": {},
   "outputs": [
    {
     "data": {
      "text/plain": [
       "Index(['Id_hecho', 'federal', 'Cod_INDEC_Prov', 'provincia',\n",
       "       'codigo_departamento', 'Cod_INDEC', 'departamento', 'localidad',\n",
       "       'codigo_localidad', 'radio_censal', 'latitud_radio', 'longitud_radio',\n",
       "       'anio', 'mes', 'tipo_lugar', 'otro_tipo_lugar', 'tipo_lugar_ampliado',\n",
       "       'clase_arma', 'otro_clase_arma', 'en_ocasion_otro_delito',\n",
       "       'otro_en_ocasion_otro_delito', 'motivo_origen_registro',\n",
       "       'otro_motivo_origen_registro', 'fecha_hecho', 'hora_hecho',\n",
       "       'tipo_persona_id', 'tipo_persona', 'sexo_victima',\n",
       "       'identidad_genero_victima', 'otro_identidad_genero_victima',\n",
       "       'tr_edad_victima', 'clase_victima', 'otro_clase_victima',\n",
       "       'situacion_ocupacional_victima', 'otro_situacion_ocupacional_victi',\n",
       "       'sexo_inculpado', 'identidad_genero_inculpado',\n",
       "       'otro_identidad_genero_inculpado', 'tr_edad_inculpado',\n",
       "       'clase_inculpado', 'otro_clase_inculpado', 'relacion_inculpado_victima',\n",
       "       'relacion_victima_inculpado', 'tipo_hecho_segun_victima', 'cant_inc',\n",
       "       'cant_vic'],\n",
       "      dtype='object')"
      ]
     },
     "execution_count": 14,
     "metadata": {},
     "output_type": "execute_result"
    }
   ],
   "source": [
    "datos_escalados.columns"
   ]
  },
  {
   "cell_type": "code",
   "execution_count": null,
   "metadata": {},
   "outputs": [],
   "source": [
    "X = datos_escalados.drop(columns=[])  # DataFrame con todas las características excepto la variable objetivo\n",
    "y = df[target_column]  # Serie que contiene la variable objetivo\n",
    "datos_escalados_reducidos = SelectPercentile(chi2, percentile=90).fit_transform(datos_escalados)\n"
   ]
  },
  {
   "attachments": {},
   "cell_type": "markdown",
   "metadata": {},
   "source": [
    "- 2. ¿Cuáles son los departamentos con mayor número de delitos?"
   ]
  },
  {
   "attachments": {},
   "cell_type": "markdown",
   "metadata": {},
   "source": [
    "- 3. ¿Cuáles son los motivos más comunes que originaron el registro de un delito?"
   ]
  },
  {
   "attachments": {},
   "cell_type": "markdown",
   "metadata": {},
   "source": [
    "- 4. ¿Existe alguna relación entre el mes del año y la cantidad de delitos?"
   ]
  },
  {
   "attachments": {},
   "cell_type": "markdown",
   "metadata": {},
   "source": [
    "- 5. ¿Hay alguna relación entre el lugar y el género del inculpado?"
   ]
  },
  {
   "attachments": {},
   "cell_type": "markdown",
   "metadata": {},
   "source": [
    "- 6. ¿Hay alguna relación entre el lugar y el género de la víctima?"
   ]
  }
 ],
 "metadata": {
  "kernelspec": {
   "display_name": "Python 3",
   "language": "python",
   "name": "python3"
  },
  "language_info": {
   "codemirror_mode": {
    "name": "ipython",
    "version": 3
   },
   "file_extension": ".py",
   "mimetype": "text/x-python",
   "name": "python",
   "nbconvert_exporter": "python",
   "pygments_lexer": "ipython3",
   "version": "3.10.7"
  }
 },
 "nbformat": 4,
 "nbformat_minor": 4
}

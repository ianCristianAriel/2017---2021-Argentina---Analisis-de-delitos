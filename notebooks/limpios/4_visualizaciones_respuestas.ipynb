{
 "cells": [
  {
   "attachments": {},
   "cell_type": "markdown",
   "metadata": {},
   "source": [
    "- 1. ¿Cuál es la proporción de víctimas masculinas y femeninas en los delitos registrados?\n",
    "- 2. ¿Cuáles son los departamentos con mayor número de delitos?\n",
    "- 3. ¿Cuáles son los motivos más comunes que originaron el registro de un delito?\n",
    "- 4. ¿Existe alguna relación entre el mes del año y la cantidad de delitos?\n",
    "- 5. ¿Hay alguna relación entre el lugar y el género de la victima?\n",
    "- 6. ¿Hay alguna relación entre el lugar y el género del inculpado? Cual es el genero que mayormente ocupa el rol de inculpad@?, que proporcion hay para cada sexo?\n",
    "- 6. ¿Hay alguna relación entre el lugar y el género de la victima? Cual es el genero que mayormente ocupa el rol de la victima?, que proporcion hay para cada sexo?\n",
    "- 7. Cantidad de hechos por año?, cuales son los 3 años con mayor numero de delitos?\n",
    "- 8. Relacion entre la cantidad de inculpados y victimas por hecho\n",
    "- 9. 3 principales clases de victimas y la relacion de sexo de cada una.\n",
    "- 10. Relacion entre la edad y el sexo de la victima\n",
    "- 11. Relacion entre la edad y el sexo del inculpado"
   ]
  }
 ],
 "metadata": {
  "kernelspec": {
   "display_name": "Python 3",
   "language": "python",
   "name": "python3"
  },
  "language_info": {
   "codemirror_mode": {
    "name": "ipython",
    "version": 3
   },
   "file_extension": ".py",
   "mimetype": "text/x-python",
   "name": "python",
   "nbconvert_exporter": "python",
   "pygments_lexer": "ipython3",
   "version": "3.8.5"
  },
  "toc": {
   "base_numbering": 1,
   "nav_menu": {},
   "number_sections": true,
   "sideBar": true,
   "skip_h1_title": false,
   "title_cell": "Table of Contents",
   "title_sidebar": "Contents",
   "toc_cell": true,
   "toc_position": {},
   "toc_section_display": true,
   "toc_window_display": false
  },
  "varInspector": {
   "cols": {
    "lenName": 16,
    "lenType": 16,
    "lenVar": 40
   },
   "kernels_config": {
    "python": {
     "delete_cmd_postfix": "",
     "delete_cmd_prefix": "del ",
     "library": "var_list.py",
     "varRefreshCmd": "print(var_dic_list())"
    },
    "r": {
     "delete_cmd_postfix": ") ",
     "delete_cmd_prefix": "rm(",
     "library": "var_list.r",
     "varRefreshCmd": "cat(var_dic_list()) "
    }
   },
   "types_to_exclude": [
    "module",
    "function",
    "builtin_function_or_method",
    "instance",
    "_Feature"
   ],
   "window_display": false
  }
 },
 "nbformat": 4,
 "nbformat_minor": 4
}

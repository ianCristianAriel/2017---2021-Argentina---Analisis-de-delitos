{
 "cells": [
  {
   "cell_type": "code",
   "execution_count": null,
   "metadata": {},
   "outputs": [],
   "source": [
    "import pandas as pd\n",
    "import numpy as np\n",
    "from IPython.display import display as disp"
   ]
  },
  {
   "cell_type": "code",
   "execution_count": null,
   "metadata": {},
   "outputs": [],
   "source": [
    "datos = pd.read_csv(\"/home/cristian/Escritorio/CDIA/Github/proc_datos_proyecto_final_G3/datos/brutos/SAT-HD-BU_2017-2021.csv\")\n",
    "disp(datos)"
   ]
  },
  {
   "cell_type": "markdown",
   "metadata": {},
   "source": [
    "### Graficando los datos en escala original "
   ]
  },
  {
   "cell_type": "code",
   "execution_count": null,
   "metadata": {},
   "outputs": [],
   "source": [
    "import seaborn as sns\n",
    "import matplotlib.pyplot as plt\n",
    "import missingno as msno"
   ]
  },
  {
   "cell_type": "code",
   "execution_count": null,
   "metadata": {},
   "outputs": [],
   "source": [
    "fig = plt.figure(figsize=(15, 5))\n",
    "sns.pairplot(datos)\n",
    "plt.show()"
   ]
  },
  {
   "cell_type": "markdown",
   "metadata": {},
   "source": [
    "### Distribución de los datos originales"
   ]
  },
  {
   "cell_type": "code",
   "execution_count": null,
   "metadata": {},
   "outputs": [],
   "source": [
    "for column in datos.columns:\n",
    "    try:\n",
    "        sns.histplot(datos[column])\n",
    "        plt.show()\n",
    "    except:\n",
    "        continue"
   ]
  },
  {
   "attachments": {},
   "cell_type": "markdown",
   "metadata": {},
   "source": [
    "## Codificacion de datos categoricos"
   ]
  },
  {
   "cell_type": "code",
   "execution_count": null,
   "metadata": {},
   "outputs": [],
   "source": [
    "#Observacion de los tipos de datos por columna, con el fin de encontrar aquellas con datos categoricos/object\n",
    "print(datos.dtypes)"
   ]
  },
  {
   "cell_type": "markdown",
   "metadata": {},
   "source": [
    "### Categoricos ordinales"
   ]
  },
  {
   "cell_type": "code",
   "execution_count": null,
   "metadata": {},
   "outputs": [],
   "source": [
    "##No hay "
   ]
  },
  {
   "cell_type": "markdown",
   "metadata": {},
   "source": [
    "### Categoricos nominales"
   ]
  },
  {
   "cell_type": "code",
   "execution_count": null,
   "metadata": {},
   "outputs": [],
   "source": [
    "from sklearn.preprocessing import LabelEncoder"
   ]
  },
  {
   "cell_type": "code",
   "execution_count": null,
   "metadata": {},
   "outputs": [],
   "source": [
    "# Seleccionar las columnas de tipo object\n",
    "object_columns = datos.select_dtypes(include=['object']).columns.copy()\n",
    "\n",
    "# Iterar sobre las columnas seleccionadas y aplicar la codificación\n",
    "for column in object_columns:\n",
    "    encoder = LabelEncoder()\n",
    "    datos[column] = encoder.fit_transform(datos[column].astype(str))"
   ]
  },
  {
   "cell_type": "code",
   "execution_count": null,
   "metadata": {},
   "outputs": [],
   "source": [
    "datos"
   ]
  },
  {
   "attachments": {},
   "cell_type": "markdown",
   "metadata": {},
   "source": [
    "## Escalamiento"
   ]
  },
  {
   "cell_type": "markdown",
   "metadata": {},
   "source": [
    "# Escala en función del mínimo y máximo"
   ]
  },
  {
   "cell_type": "code",
   "execution_count": null,
   "metadata": {},
   "outputs": [],
   "source": [
    "from sklearn.preprocessing import MinMaxScaler"
   ]
  },
  {
   "cell_type": "code",
   "execution_count": null,
   "metadata": {},
   "outputs": [],
   "source": [
    "scaler = MinMaxScaler()\n",
    "scaled_data = scaler.fit_transform(datos)"
   ]
  },
  {
   "cell_type": "code",
   "execution_count": null,
   "metadata": {},
   "outputs": [],
   "source": [
    "# convierte vectores de numpy a DataFrames para graficarlos\n",
    "datos_escalados = pd.DataFrame(scaled_data, columns=datos.columns)"
   ]
  },
  {
   "cell_type": "code",
   "execution_count": null,
   "metadata": {},
   "outputs": [],
   "source": [
    "datos_escalados"
   ]
  },
  {
   "attachments": {},
   "cell_type": "markdown",
   "metadata": {},
   "source": [
    "## Reduccion de dimencionalidad"
   ]
  },
  {
   "attachments": {},
   "cell_type": "markdown",
   "metadata": {},
   "source": [
    "Se reduce la dimensionalidad del dataframe en base a las columnas que se utilizaran para responder cada pregunta"
   ]
  },
  {
   "cell_type": "code",
   "execution_count": null,
   "metadata": {},
   "outputs": [],
   "source": [
    "from sklearn.feature_selection import SelectPercentile, chi2"
   ]
  },
  {
   "cell_type": "code",
   "execution_count": 14,
   "metadata": {},
   "outputs": [
    {
     "data": {
      "text/plain": [
       "Index(['Id_hecho', 'federal', 'Cod_INDEC_Prov', 'provincia',\n",
       "       'codigo_departamento', 'Cod_INDEC', 'departamento', 'localidad',\n",
       "       'codigo_localidad', 'radio_censal', 'latitud_radio', 'longitud_radio',\n",
       "       'anio', 'mes', 'tipo_lugar', 'otro_tipo_lugar', 'tipo_lugar_ampliado',\n",
       "       'clase_arma', 'otro_clase_arma', 'en_ocasion_otro_delito',\n",
       "       'otro_en_ocasion_otro_delito', 'motivo_origen_registro',\n",
       "       'otro_motivo_origen_registro', 'fecha_hecho', 'hora_hecho',\n",
       "       'tipo_persona_id', 'tipo_persona', 'sexo_victima',\n",
       "       'identidad_genero_victima', 'otro_identidad_genero_victima',\n",
       "       'tr_edad_victima', 'clase_victima', 'otro_clase_victima',\n",
       "       'situacion_ocupacional_victima', 'otro_situacion_ocupacional_victi',\n",
       "       'sexo_inculpado', 'identidad_genero_inculpado',\n",
       "       'otro_identidad_genero_inculpado', 'tr_edad_inculpado',\n",
       "       'clase_inculpado', 'otro_clase_inculpado', 'relacion_inculpado_victima',\n",
       "       'relacion_victima_inculpado', 'tipo_hecho_segun_victima', 'cant_inc',\n",
       "       'cant_vic'],\n",
       "      dtype='object')"
      ]
     },
     "execution_count": 14,
     "metadata": {},
     "output_type": "execute_result"
    }
   ],
   "source": [
    "datos_escalados.columns"
   ]
  },
  {
   "cell_type": "code",
   "execution_count": null,
   "metadata": {},
   "outputs": [],
   "source": [
    "X = datos_escalados.drop(columns=[])  # DataFrame con todas las características excepto la variable objetivo\n",
    "y = df[target_column]  # Serie que contiene la variable objetivo\n",
    "datos_escalados_reducidos = SelectPercentile(chi2, percentile=90).fit_transform(datos_escalados)\n"
   ]
  },
  {
   "attachments": {},
   "cell_type": "markdown",
   "metadata": {},
   "source": [
    "## PCA"
   ]
  },
  {
   "attachments": {},
   "cell_type": "markdown",
   "metadata": {},
   "source": [
    "El PCA a un DataFrame puede proporcionar una forma eficaz de reducir la dimensionalidad, identificar patrones y relaciones, visualizar datos y mejorar el rendimiento "
   ]
  },
  {
   "cell_type": "code",
   "execution_count": null,
   "metadata": {},
   "outputs": [],
   "source": [
    "#temp hasta tener datos limpios\n",
    "datos_escalados.dropna(inplace=True)"
   ]
  },
  {
   "cell_type": "code",
   "execution_count": null,
   "metadata": {},
   "outputs": [],
   "source": [
    "from sklearn.decomposition import PCA"
   ]
  },
  {
   "cell_type": "code",
   "execution_count": null,
   "metadata": {},
   "outputs": [],
   "source": [
    "# Crear una instancia de PCA con 2 componentes principales\n",
    "pca = PCA(n_components=2)\n",
    "\n",
    "# Ajustar el PCA a tus datos escalados\n",
    "componentes_principales = pca.fit_transform(datos_escalados)\n",
    "\n",
    "# Obtener los componentes principales en la forma (46, 2)\n",
    "componente_principal_1 = componentes_principales[:, 0]\n",
    "componente_principal_2 = componentes_principales[:, 1]\n",
    "\n",
    "# Crear el DataFrame con los componentes principales\n",
    "pca_df = pd.DataFrame({\n",
    "    'Componente principal 1': componente_principal_1,\n",
    "    'Componente principal 2': componente_principal_2\n",
    "})\n",
    "\n",
    "\n",
    "# Visualizar los componentes principales y la varianza explicada\n",
    "sns.scatterplot(data=pca_df, x='Componente principal 1', y='Componente principal 2')\n",
    "plt.xlabel('Componente principal 1')\n",
    "plt.ylabel('Componente principal 2')\n",
    "\n",
    "plt.show()\n"
   ]
  }
 ],
 "metadata": {
  "kernelspec": {
   "display_name": "Python 3",
   "language": "python",
   "name": "python3"
  },
  "language_info": {
   "codemirror_mode": {
    "name": "ipython",
    "version": 3
   },
   "file_extension": ".py",
   "mimetype": "text/x-python",
   "name": "python",
   "nbconvert_exporter": "python",
   "pygments_lexer": "ipython3",
   "version": "3.10.7"
  }
 },
 "nbformat": 4,
 "nbformat_minor": 4
}

{
 "cells": [
  {
   "cell_type": "code",
   "execution_count": 1,
   "metadata": {},
   "outputs": [],
   "source": [
    "import pandas as pd\n",
    "import matplotlib.pyplot as plt\n",
    "import seaborn as sns"
   ]
  },
  {
   "cell_type": "code",
   "execution_count": 2,
   "metadata": {},
   "outputs": [],
   "source": [
    "#Importamos archivo a analizar\n",
    "datacompleta = pd.read_csv('../../datos/procesados/limpieza01_argentina_delitos.csv')"
   ]
  },
  {
   "cell_type": "code",
   "execution_count": 3,
   "metadata": {},
   "outputs": [
    {
     "data": {
      "text/html": [
       "<div>\n",
       "<style scoped>\n",
       "    .dataframe tbody tr th:only-of-type {\n",
       "        vertical-align: middle;\n",
       "    }\n",
       "\n",
       "    .dataframe tbody tr th {\n",
       "        vertical-align: top;\n",
       "    }\n",
       "\n",
       "    .dataframe thead th {\n",
       "        text-align: right;\n",
       "    }\n",
       "</style>\n",
       "<table border=\"1\" class=\"dataframe\">\n",
       "  <thead>\n",
       "    <tr style=\"text-align: right;\">\n",
       "      <th></th>\n",
       "      <th>Id_hecho</th>\n",
       "      <th>provincia</th>\n",
       "      <th>localidad</th>\n",
       "      <th>anio</th>\n",
       "      <th>mes</th>\n",
       "      <th>tipo_lugar</th>\n",
       "      <th>tipo_lugar_ampliado</th>\n",
       "      <th>motivo_origen_registro</th>\n",
       "      <th>fecha_hecho</th>\n",
       "      <th>hora_hecho</th>\n",
       "      <th>tipo_persona_id</th>\n",
       "      <th>tipo_persona</th>\n",
       "      <th>sexo_victima</th>\n",
       "      <th>tr_edad_victima</th>\n",
       "      <th>clase_victima</th>\n",
       "      <th>sexo_inculpado</th>\n",
       "      <th>tr_edad_inculpado</th>\n",
       "      <th>relacion_inculpado_victima</th>\n",
       "      <th>relacion_victima_inculpado</th>\n",
       "      <th>cant_vic</th>\n",
       "    </tr>\n",
       "  </thead>\n",
       "  <tbody>\n",
       "    <tr>\n",
       "      <th>0</th>\n",
       "      <td>11535</td>\n",
       "      <td>NEUQUEN</td>\n",
       "      <td>Plottier</td>\n",
       "      <td>2017</td>\n",
       "      <td>1</td>\n",
       "      <td>Domicilio particular</td>\n",
       "      <td>Domicilio particular</td>\n",
       "      <td>Intervención policial</td>\n",
       "      <td>14/1/2017</td>\n",
       "      <td>22:38:00</td>\n",
       "      <td>Imputado idRegistro 12929</td>\n",
       "      <td>Imputado</td>\n",
       "      <td>No corresponde</td>\n",
       "      <td>No corresponde</td>\n",
       "      <td>No corresponde</td>\n",
       "      <td>Masculino</td>\n",
       "      <td>Sin determinar</td>\n",
       "      <td>Sin relación</td>\n",
       "      <td>No corresponde</td>\n",
       "      <td>1</td>\n",
       "    </tr>\n",
       "    <tr>\n",
       "      <th>1</th>\n",
       "      <td>11535</td>\n",
       "      <td>NEUQUEN</td>\n",
       "      <td>Plottier</td>\n",
       "      <td>2017</td>\n",
       "      <td>1</td>\n",
       "      <td>Domicilio particular</td>\n",
       "      <td>Domicilio particular</td>\n",
       "      <td>Intervención policial</td>\n",
       "      <td>14/1/2017</td>\n",
       "      <td>22:38:00</td>\n",
       "      <td>Imputado idRegistro 12930</td>\n",
       "      <td>Imputado</td>\n",
       "      <td>No corresponde</td>\n",
       "      <td>No corresponde</td>\n",
       "      <td>No corresponde</td>\n",
       "      <td>Masculino</td>\n",
       "      <td>Sin determinar</td>\n",
       "      <td>Sin relación</td>\n",
       "      <td>No corresponde</td>\n",
       "      <td>1</td>\n",
       "    </tr>\n",
       "    <tr>\n",
       "      <th>2</th>\n",
       "      <td>11535</td>\n",
       "      <td>NEUQUEN</td>\n",
       "      <td>Plottier</td>\n",
       "      <td>2017</td>\n",
       "      <td>1</td>\n",
       "      <td>Domicilio particular</td>\n",
       "      <td>Domicilio particular</td>\n",
       "      <td>Intervención policial</td>\n",
       "      <td>14/1/2017</td>\n",
       "      <td>22:38:00</td>\n",
       "      <td>Imputado idRegistro 12931</td>\n",
       "      <td>Imputado</td>\n",
       "      <td>No corresponde</td>\n",
       "      <td>No corresponde</td>\n",
       "      <td>No corresponde</td>\n",
       "      <td>Masculino</td>\n",
       "      <td>Sin determinar</td>\n",
       "      <td>Sin relación</td>\n",
       "      <td>No corresponde</td>\n",
       "      <td>1</td>\n",
       "    </tr>\n",
       "    <tr>\n",
       "      <th>3</th>\n",
       "      <td>11535</td>\n",
       "      <td>NEUQUEN</td>\n",
       "      <td>Plottier</td>\n",
       "      <td>2017</td>\n",
       "      <td>1</td>\n",
       "      <td>Domicilio particular</td>\n",
       "      <td>Domicilio particular</td>\n",
       "      <td>Intervención policial</td>\n",
       "      <td>14/1/2017</td>\n",
       "      <td>22:38:00</td>\n",
       "      <td>Víctima idRegistro 12235</td>\n",
       "      <td>Víctima</td>\n",
       "      <td>Masculino</td>\n",
       "      <td>45-49</td>\n",
       "      <td>Civil</td>\n",
       "      <td>No corresponde</td>\n",
       "      <td>No corresponde</td>\n",
       "      <td>No corresponde</td>\n",
       "      <td>Sin relación</td>\n",
       "      <td>1</td>\n",
       "    </tr>\n",
       "    <tr>\n",
       "      <th>4</th>\n",
       "      <td>11536</td>\n",
       "      <td>NEUQUEN</td>\n",
       "      <td>Cutral Có</td>\n",
       "      <td>2017</td>\n",
       "      <td>1</td>\n",
       "      <td>Vía pública</td>\n",
       "      <td>Vía pública</td>\n",
       "      <td>Intervención policial</td>\n",
       "      <td>7/1/2017</td>\n",
       "      <td>10:35:00</td>\n",
       "      <td>Imputado idRegistro 12932</td>\n",
       "      <td>Imputado</td>\n",
       "      <td>No corresponde</td>\n",
       "      <td>No corresponde</td>\n",
       "      <td>No corresponde</td>\n",
       "      <td>Masculino</td>\n",
       "      <td>30-34</td>\n",
       "      <td>Sin relación</td>\n",
       "      <td>No corresponde</td>\n",
       "      <td>1</td>\n",
       "    </tr>\n",
       "  </tbody>\n",
       "</table>\n",
       "</div>"
      ],
      "text/plain": [
       "   Id_hecho provincia  localidad  anio  mes            tipo_lugar   \n",
       "0     11535   NEUQUEN   Plottier  2017    1  Domicilio particular  \\\n",
       "1     11535   NEUQUEN   Plottier  2017    1  Domicilio particular   \n",
       "2     11535   NEUQUEN   Plottier  2017    1  Domicilio particular   \n",
       "3     11535   NEUQUEN   Plottier  2017    1  Domicilio particular   \n",
       "4     11536   NEUQUEN  Cutral Có  2017    1           Vía pública   \n",
       "\n",
       "    tipo_lugar_ampliado motivo_origen_registro fecha_hecho hora_hecho   \n",
       "0  Domicilio particular  Intervención policial   14/1/2017   22:38:00  \\\n",
       "1  Domicilio particular  Intervención policial   14/1/2017   22:38:00   \n",
       "2  Domicilio particular  Intervención policial   14/1/2017   22:38:00   \n",
       "3  Domicilio particular  Intervención policial   14/1/2017   22:38:00   \n",
       "4           Vía pública  Intervención policial    7/1/2017   10:35:00   \n",
       "\n",
       "             tipo_persona_id tipo_persona    sexo_victima tr_edad_victima   \n",
       "0  Imputado idRegistro 12929     Imputado  No corresponde  No corresponde  \\\n",
       "1  Imputado idRegistro 12930     Imputado  No corresponde  No corresponde   \n",
       "2  Imputado idRegistro 12931     Imputado  No corresponde  No corresponde   \n",
       "3   Víctima idRegistro 12235      Víctima       Masculino           45-49   \n",
       "4  Imputado idRegistro 12932     Imputado  No corresponde  No corresponde   \n",
       "\n",
       "    clase_victima  sexo_inculpado tr_edad_inculpado   \n",
       "0  No corresponde       Masculino    Sin determinar  \\\n",
       "1  No corresponde       Masculino    Sin determinar   \n",
       "2  No corresponde       Masculino    Sin determinar   \n",
       "3           Civil  No corresponde    No corresponde   \n",
       "4  No corresponde       Masculino             30-34   \n",
       "\n",
       "  relacion_inculpado_victima relacion_victima_inculpado  cant_vic  \n",
       "0               Sin relación             No corresponde         1  \n",
       "1               Sin relación             No corresponde         1  \n",
       "2               Sin relación             No corresponde         1  \n",
       "3             No corresponde               Sin relación         1  \n",
       "4               Sin relación             No corresponde         1  "
      ]
     },
     "execution_count": 3,
     "metadata": {},
     "output_type": "execute_result"
    }
   ],
   "source": [
    "#damos un primer vistazo general\n",
    "datacompleta.head(5)"
   ]
  },
  {
   "cell_type": "code",
   "execution_count": 4,
   "metadata": {},
   "outputs": [
    {
     "name": "stdout",
     "output_type": "stream",
     "text": [
      "<class 'pandas.core.frame.DataFrame'>\n",
      "RangeIndex: 25160 entries, 0 to 25159\n",
      "Data columns (total 20 columns):\n",
      " #   Column                      Non-Null Count  Dtype \n",
      "---  ------                      --------------  ----- \n",
      " 0   Id_hecho                    25160 non-null  int64 \n",
      " 1   provincia                   25160 non-null  object\n",
      " 2   localidad                   25160 non-null  object\n",
      " 3   anio                        25160 non-null  int64 \n",
      " 4   mes                         25160 non-null  int64 \n",
      " 5   tipo_lugar                  25160 non-null  object\n",
      " 6   tipo_lugar_ampliado         25160 non-null  object\n",
      " 7   motivo_origen_registro      25160 non-null  object\n",
      " 8   fecha_hecho                 25160 non-null  object\n",
      " 9   hora_hecho                  25160 non-null  object\n",
      " 10  tipo_persona_id             25160 non-null  object\n",
      " 11  tipo_persona                25160 non-null  object\n",
      " 12  sexo_victima                25160 non-null  object\n",
      " 13  tr_edad_victima             25160 non-null  object\n",
      " 14  clase_victima               25160 non-null  object\n",
      " 15  sexo_inculpado              25160 non-null  object\n",
      " 16  tr_edad_inculpado           25160 non-null  object\n",
      " 17  relacion_inculpado_victima  25160 non-null  object\n",
      " 18  relacion_victima_inculpado  25160 non-null  object\n",
      " 19  cant_vic                    25160 non-null  int64 \n",
      "dtypes: int64(4), object(16)\n",
      "memory usage: 3.8+ MB\n"
     ]
    }
   ],
   "source": [
    "datacompleta.info()"
   ]
  },
  {
   "attachments": {},
   "cell_type": "markdown",
   "metadata": {},
   "source": [
    "Las variables de nuestro dataset son categoricas en su mayoria, a excepción de fecha y hora, por lo tanto, no tendría sentido realizar analisis de tendencias. "
   ]
  },
  {
   "attachments": {},
   "cell_type": "markdown",
   "metadata": {},
   "source": [
    "Vamos a filtrar el dataset por ID hecho, para poder analizar sin duplicados las variables en las cuales estamos interesados."
   ]
  },
  {
   "cell_type": "code",
   "execution_count": 5,
   "metadata": {},
   "outputs": [
    {
     "data": {
      "text/html": [
       "<div>\n",
       "<style scoped>\n",
       "    .dataframe tbody tr th:only-of-type {\n",
       "        vertical-align: middle;\n",
       "    }\n",
       "\n",
       "    .dataframe tbody tr th {\n",
       "        vertical-align: top;\n",
       "    }\n",
       "\n",
       "    .dataframe thead th {\n",
       "        text-align: right;\n",
       "    }\n",
       "</style>\n",
       "<table border=\"1\" class=\"dataframe\">\n",
       "  <thead>\n",
       "    <tr style=\"text-align: right;\">\n",
       "      <th></th>\n",
       "      <th>Id_hecho</th>\n",
       "      <th>provincia</th>\n",
       "      <th>localidad</th>\n",
       "      <th>anio</th>\n",
       "      <th>mes</th>\n",
       "      <th>tipo_lugar</th>\n",
       "      <th>tipo_lugar_ampliado</th>\n",
       "      <th>motivo_origen_registro</th>\n",
       "      <th>fecha_hecho</th>\n",
       "      <th>hora_hecho</th>\n",
       "      <th>tipo_persona_id</th>\n",
       "      <th>tipo_persona</th>\n",
       "      <th>sexo_victima</th>\n",
       "      <th>tr_edad_victima</th>\n",
       "      <th>clase_victima</th>\n",
       "      <th>sexo_inculpado</th>\n",
       "      <th>tr_edad_inculpado</th>\n",
       "      <th>relacion_inculpado_victima</th>\n",
       "      <th>relacion_victima_inculpado</th>\n",
       "      <th>cant_vic</th>\n",
       "    </tr>\n",
       "  </thead>\n",
       "  <tbody>\n",
       "    <tr>\n",
       "      <th>0</th>\n",
       "      <td>11535</td>\n",
       "      <td>NEUQUEN</td>\n",
       "      <td>Plottier</td>\n",
       "      <td>2017</td>\n",
       "      <td>1</td>\n",
       "      <td>Domicilio particular</td>\n",
       "      <td>Domicilio particular</td>\n",
       "      <td>Intervención policial</td>\n",
       "      <td>14/1/2017</td>\n",
       "      <td>22:38:00</td>\n",
       "      <td>Imputado idRegistro 12929</td>\n",
       "      <td>Imputado</td>\n",
       "      <td>No corresponde</td>\n",
       "      <td>No corresponde</td>\n",
       "      <td>No corresponde</td>\n",
       "      <td>Masculino</td>\n",
       "      <td>Sin determinar</td>\n",
       "      <td>Sin relación</td>\n",
       "      <td>No corresponde</td>\n",
       "      <td>1</td>\n",
       "    </tr>\n",
       "    <tr>\n",
       "      <th>4</th>\n",
       "      <td>11536</td>\n",
       "      <td>NEUQUEN</td>\n",
       "      <td>Cutral Có</td>\n",
       "      <td>2017</td>\n",
       "      <td>1</td>\n",
       "      <td>Vía pública</td>\n",
       "      <td>Vía pública</td>\n",
       "      <td>Intervención policial</td>\n",
       "      <td>7/1/2017</td>\n",
       "      <td>10:35:00</td>\n",
       "      <td>Imputado idRegistro 12932</td>\n",
       "      <td>Imputado</td>\n",
       "      <td>No corresponde</td>\n",
       "      <td>No corresponde</td>\n",
       "      <td>No corresponde</td>\n",
       "      <td>Masculino</td>\n",
       "      <td>30-34</td>\n",
       "      <td>Sin relación</td>\n",
       "      <td>No corresponde</td>\n",
       "      <td>1</td>\n",
       "    </tr>\n",
       "    <tr>\n",
       "      <th>7</th>\n",
       "      <td>11537</td>\n",
       "      <td>NEUQUEN</td>\n",
       "      <td>Neuquén</td>\n",
       "      <td>2017</td>\n",
       "      <td>1</td>\n",
       "      <td>Vía pública</td>\n",
       "      <td>Vía pública</td>\n",
       "      <td>Intervención policial</td>\n",
       "      <td>7/1/2017</td>\n",
       "      <td>16:38:00</td>\n",
       "      <td>Imputado idRegistro 12934</td>\n",
       "      <td>Imputado</td>\n",
       "      <td>No corresponde</td>\n",
       "      <td>No corresponde</td>\n",
       "      <td>No corresponde</td>\n",
       "      <td>Masculino</td>\n",
       "      <td>25-29</td>\n",
       "      <td>Sin relación</td>\n",
       "      <td>No corresponde</td>\n",
       "      <td>1</td>\n",
       "    </tr>\n",
       "    <tr>\n",
       "      <th>9</th>\n",
       "      <td>11538</td>\n",
       "      <td>NEUQUEN</td>\n",
       "      <td>Barrancas</td>\n",
       "      <td>2017</td>\n",
       "      <td>1</td>\n",
       "      <td>Domicilio particular</td>\n",
       "      <td>Domicilio particular</td>\n",
       "      <td>Intervención policial</td>\n",
       "      <td>2/1/2017</td>\n",
       "      <td>22:00:00</td>\n",
       "      <td>Imputado idRegistro 12935</td>\n",
       "      <td>Imputado</td>\n",
       "      <td>No corresponde</td>\n",
       "      <td>No corresponde</td>\n",
       "      <td>No corresponde</td>\n",
       "      <td>Masculino</td>\n",
       "      <td>35-39</td>\n",
       "      <td>Hijo/a</td>\n",
       "      <td>No corresponde</td>\n",
       "      <td>1</td>\n",
       "    </tr>\n",
       "    <tr>\n",
       "      <th>11</th>\n",
       "      <td>11539</td>\n",
       "      <td>NEUQUEN</td>\n",
       "      <td>Neuquén</td>\n",
       "      <td>2017</td>\n",
       "      <td>4</td>\n",
       "      <td>Vía pública</td>\n",
       "      <td>Vía pública</td>\n",
       "      <td>Intervención policial</td>\n",
       "      <td>3/4/2017</td>\n",
       "      <td>23:55:00</td>\n",
       "      <td>Imputado idRegistro 12936</td>\n",
       "      <td>Imputado</td>\n",
       "      <td>No corresponde</td>\n",
       "      <td>No corresponde</td>\n",
       "      <td>No corresponde</td>\n",
       "      <td>Masculino</td>\n",
       "      <td>25-29</td>\n",
       "      <td>Sin relación</td>\n",
       "      <td>No corresponde</td>\n",
       "      <td>1</td>\n",
       "    </tr>\n",
       "  </tbody>\n",
       "</table>\n",
       "</div>"
      ],
      "text/plain": [
       "    Id_hecho provincia  localidad  anio  mes            tipo_lugar   \n",
       "0      11535   NEUQUEN   Plottier  2017    1  Domicilio particular  \\\n",
       "4      11536   NEUQUEN  Cutral Có  2017    1           Vía pública   \n",
       "7      11537   NEUQUEN    Neuquén  2017    1           Vía pública   \n",
       "9      11538   NEUQUEN  Barrancas  2017    1  Domicilio particular   \n",
       "11     11539   NEUQUEN    Neuquén  2017    4           Vía pública   \n",
       "\n",
       "     tipo_lugar_ampliado motivo_origen_registro fecha_hecho hora_hecho   \n",
       "0   Domicilio particular  Intervención policial   14/1/2017   22:38:00  \\\n",
       "4            Vía pública  Intervención policial    7/1/2017   10:35:00   \n",
       "7            Vía pública  Intervención policial    7/1/2017   16:38:00   \n",
       "9   Domicilio particular  Intervención policial    2/1/2017   22:00:00   \n",
       "11           Vía pública  Intervención policial    3/4/2017   23:55:00   \n",
       "\n",
       "              tipo_persona_id tipo_persona    sexo_victima tr_edad_victima   \n",
       "0   Imputado idRegistro 12929     Imputado  No corresponde  No corresponde  \\\n",
       "4   Imputado idRegistro 12932     Imputado  No corresponde  No corresponde   \n",
       "7   Imputado idRegistro 12934     Imputado  No corresponde  No corresponde   \n",
       "9   Imputado idRegistro 12935     Imputado  No corresponde  No corresponde   \n",
       "11  Imputado idRegistro 12936     Imputado  No corresponde  No corresponde   \n",
       "\n",
       "     clase_victima sexo_inculpado tr_edad_inculpado   \n",
       "0   No corresponde      Masculino    Sin determinar  \\\n",
       "4   No corresponde      Masculino             30-34   \n",
       "7   No corresponde      Masculino             25-29   \n",
       "9   No corresponde      Masculino             35-39   \n",
       "11  No corresponde      Masculino             25-29   \n",
       "\n",
       "   relacion_inculpado_victima relacion_victima_inculpado  cant_vic  \n",
       "0                Sin relación             No corresponde         1  \n",
       "4                Sin relación             No corresponde         1  \n",
       "7                Sin relación             No corresponde         1  \n",
       "9                      Hijo/a             No corresponde         1  \n",
       "11               Sin relación             No corresponde         1  "
      ]
     },
     "execution_count": 5,
     "metadata": {},
     "output_type": "execute_result"
    }
   ],
   "source": [
    "#vamos a tomar un registro de cada hecho, para explorar provincia, año, lugar, sin repetir información\n",
    "\n",
    "hechos_sinduplicados = datacompleta.drop_duplicates(subset='Id_hecho').copy()\n",
    "hechos_sinduplicados.head(5)\n"
   ]
  },
  {
   "attachments": {},
   "cell_type": "markdown",
   "metadata": {},
   "source": [
    "Visualizamos la distribución realizando un conteo de hecho delictivos durante el transcurso de los años. Se encuentra una distribucion uniforme, es decir, el número de delitos por año es similar, aunque con un poco de baja en 2021."
   ]
  },
  {
   "cell_type": "code",
   "execution_count": 6,
   "metadata": {},
   "outputs": [
    {
     "data": {
      "text/plain": [
       "anio\n",
       "2017    2224\n",
       "2018    2282\n",
       "2019    2238\n",
       "2020    2348\n",
       "2021    2020\n",
       "Name: Id_hecho, dtype: int64"
      ]
     },
     "execution_count": 6,
     "metadata": {},
     "output_type": "execute_result"
    }
   ],
   "source": [
    "#hechos delictivos por año\n",
    "conteo = hechos_sinduplicados.groupby('anio')['Id_hecho'].count()\n",
    "conteo"
   ]
  },
  {
   "cell_type": "code",
   "execution_count": 7,
   "metadata": {},
   "outputs": [
    {
     "data": {
      "image/png": "[encoded data removed]",
      "text/plain": [
       "<Figure size 640x480 with 1 Axes>"
      ]
     },
     "metadata": {},
     "output_type": "display_data"
    }
   ],
   "source": [
    "conteo_por_anio = hechos_sinduplicados.groupby('anio')['Id_hecho'].count()\n",
    "\n",
    "fig, ax = plt.subplots()\n",
    "ax.hist(hechos_sinduplicados['anio'], bins=len(conteo_por_anio), edgecolor='black')\n",
    "ax.set_xlabel('Año')\n",
    "ax.set_ylabel('Recuento de Delitos')\n",
    "ax.set_title('Histograma de Recuento de Delitos por Año')\n",
    "\n",
    "plt.show()"
   ]
  },
  {
   "attachments": {},
   "cell_type": "markdown",
   "metadata": {},
   "source": [
    "Ya que notamos una baja en 2021, vamos a corroborar que ese año tenga los datos de todos los meses del año, que este completo. Y si, es asi. "
   ]
  },
  {
   "cell_type": "code",
   "execution_count": 8,
   "metadata": {},
   "outputs": [
    {
     "data": {
      "text/plain": [
       "Series([], Name: Id_hecho, dtype: int64)"
      ]
     },
     "execution_count": 8,
     "metadata": {},
     "output_type": "execute_result"
    }
   ],
   "source": [
    "conteo = hechos_sinduplicados[hechos_sinduplicados['anio'] == '2021'].groupby('mes')['Id_hecho'].count()\n",
    "conteo"
   ]
  },
  {
   "attachments": {},
   "cell_type": "markdown",
   "metadata": {},
   "source": [
    "Visualizamos la districbución realizando un conteo de hecho delictivos durante los meses de todos estos años. Se encuentra una distribucion Bimodal, es decir, la mayor cantidad de delitos fueron cometidos en los primeros y ultimos meses del año. "
   ]
  },
  {
   "cell_type": "code",
   "execution_count": 9,
   "metadata": {},
   "outputs": [
    {
     "data": {
      "image/png": "[encoded data removed]",
      "text/plain": [
       "<Figure size 640x480 with 1 Axes>"
      ]
     },
     "metadata": {},
     "output_type": "display_data"
    }
   ],
   "source": [
    "conteo_por_mes = hechos_sinduplicados.groupby('mes')['Id_hecho'].count()\n",
    "conteo_por_mes = conteo_por_mes.sort_values(ascending=True)\n",
    "\n",
    "fig, ax = plt.subplots()\n",
    "ax.hist(hechos_sinduplicados['mes'], bins=len(conteo_por_mes), edgecolor='black')\n",
    "ax.set_xlabel('Mes')\n",
    "ax.set_ylabel('Recuento de Delitos')\n",
    "ax.set_title('Histograma de Recuento de Delitos por Mes')\n",
    "\n",
    "plt.show()"
   ]
  },
  {
   "attachments": {},
   "cell_type": "markdown",
   "metadata": {},
   "source": [
    "Se agrega columna nueva para analizar la variable Hora. "
   ]
  },
  {
   "cell_type": "code",
   "execution_count": 10,
   "metadata": {},
   "outputs": [
    {
     "data": {
      "text/plain": [
       "Horaok\n",
       "11    4826\n",
       "00     469\n",
       "22     437\n",
       "21     429\n",
       "23     373\n",
       "20     372\n",
       "19     307\n",
       "05     303\n",
       "01     290\n",
       "18     282\n",
       "06     281\n",
       "02     265\n",
       "04     265\n",
       "03     243\n",
       "16     220\n",
       "17     212\n",
       "07     211\n",
       "12     202\n",
       "08     202\n",
       "15     201\n",
       "14     199\n",
       "13     190\n",
       "10     179\n",
       "09     154\n",
       "Name: Id_hecho, dtype: int64"
      ]
     },
     "execution_count": 10,
     "metadata": {},
     "output_type": "execute_result"
    }
   ],
   "source": [
    "hechos_sinduplicados[\"Horaok\"] = hechos_sinduplicados['hora_hecho'].apply(lambda x: x[:2])\n",
    "\n",
    "conteo = hechos_sinduplicados.groupby('Horaok')['Id_hecho'].count()\n",
    "conteo.sort_values(ascending=False)"
   ]
  },
  {
   "attachments": {},
   "cell_type": "markdown",
   "metadata": {},
   "source": [
    "Vemos un pico de delitos en el horario de las 11am. Indagamos un poco más a ver si es un dato erroneo. "
   ]
  },
  {
   "cell_type": "code",
   "execution_count": 11,
   "metadata": {},
   "outputs": [
    {
     "data": {
      "image/png": "[encoded data removed]",
      "text/plain": [
       "<Figure size 640x480 with 1 Axes>"
      ]
     },
     "metadata": {},
     "output_type": "display_data"
    }
   ],
   "source": [
    "fig, ax = plt.subplots()\n",
    "\n",
    "ax.bar(conteo.index, conteo.values)\n",
    "\n",
    "ax.set_title('Recuento de Delitos por Hora')\n",
    "ax.set_xlabel('Hora')\n",
    "ax.set_ylabel('Recuento de Delitos')\n",
    "\n",
    "plt.show()"
   ]
  },
  {
   "attachments": {},
   "cell_type": "markdown",
   "metadata": {},
   "source": [
    "Se visualiza que la cantidad de delitos a las 11 de la mañana se mantiene en todos los meses, deducimos de esta manera, que no es un dato con error."
   ]
  },
  {
   "cell_type": "code",
   "execution_count": 12,
   "metadata": {},
   "outputs": [
    {
     "data": {
      "text/plain": [
       "mes\n",
       "1     473\n",
       "2     416\n",
       "3     463\n",
       "4     353\n",
       "5     338\n",
       "6     389\n",
       "7     347\n",
       "8     432\n",
       "9     377\n",
       "10    397\n",
       "11    403\n",
       "12    438\n",
       "Name: Id_hecho, dtype: int64"
      ]
     },
     "execution_count": 12,
     "metadata": {},
     "output_type": "execute_result"
    }
   ],
   "source": [
    "hechos_sinduplicados[hechos_sinduplicados['Horaok'] == '11'].groupby('mes')['Id_hecho'].count()\n"
   ]
  },
  {
   "cell_type": "code",
   "execution_count": 13,
   "metadata": {},
   "outputs": [
    {
     "data": {
      "text/plain": [
       "provincia\n",
       "BUENOS AIRES              4500\n",
       "CHACO                        9\n",
       "CHUBUT                       9\n",
       "CIUDAD DE BUENOS AIRES      50\n",
       "CORDOBA                     32\n",
       "CORRIENTES                   4\n",
       "ENTRE RIOS                  22\n",
       "FORMOSA                      2\n",
       "JUJUY                        8\n",
       "LA PAMPA                     2\n",
       "LA RIOJA                     1\n",
       "MENDOZA                     23\n",
       "MISIONES                     9\n",
       "NEUQUEN                      7\n",
       "RIO NEGRO                   29\n",
       "SALTA                        9\n",
       "SAN JUAN                     2\n",
       "SAN LUIS                     1\n",
       "SANTA CRUZ                   3\n",
       "SANTA FE                    66\n",
       "SANTIAGO DEL ESTERO         22\n",
       "TIERRA DEL FUEGO             1\n",
       "TUCUMÁN                     15\n",
       "Name: Id_hecho, dtype: int64"
      ]
     },
     "execution_count": 13,
     "metadata": {},
     "output_type": "execute_result"
    }
   ],
   "source": [
    "hechos_sinduplicados[hechos_sinduplicados['Horaok'] == '11'].groupby('provincia')['Id_hecho'].count()"
   ]
  },
  {
   "attachments": {},
   "cell_type": "markdown",
   "metadata": {},
   "source": [
    "¿En que provincias hubo mas delitos reportados?"
   ]
  },
  {
   "cell_type": "code",
   "execution_count": 14,
   "metadata": {},
   "outputs": [
    {
     "data": {
      "text/plain": [
       "provincia\n",
       "BUENOS AIRES              4502\n",
       "SANTA FE                  1637\n",
       "TUCUMÁN                    635\n",
       "CIUDAD DE BUENOS AIRES     583\n",
       "CORDOBA                    541\n",
       "MENDOZA                    456\n",
       "SALTA                      385\n",
       "CHACO                      345\n",
       "ENTRE RIOS                 275\n",
       "MISIONES                   254\n",
       "CHUBUT                     200\n",
       "SANTIAGO DEL ESTERO        182\n",
       "CORRIENTES                 180\n",
       "NEUQUEN                    177\n",
       "FORMOSA                    177\n",
       "RIO NEGRO                  139\n",
       "JUJUY                      122\n",
       "SAN JUAN                    73\n",
       "SANTA CRUZ                  66\n",
       "SAN LUIS                    54\n",
       "CATAMARCA                   48\n",
       "LA PAMPA                    33\n",
       "LA RIOJA                    33\n",
       "TIERRA DEL FUEGO            15\n",
       "Name: Id_hecho, dtype: int64"
      ]
     },
     "execution_count": 14,
     "metadata": {},
     "output_type": "execute_result"
    }
   ],
   "source": [
    "#recuento por provincia ?\n",
    "\n",
    "conteo = hechos_sinduplicados.groupby('provincia')['Id_hecho'].count()\n",
    "\n",
    "conteo.sort_values(ascending=False)"
   ]
  },
  {
   "cell_type": "code",
   "execution_count": 15,
   "metadata": {},
   "outputs": [
    {
     "data": {
      "image/png": "[encoded data removed]",
      "text/plain": [
       "<Figure size 640x480 with 1 Axes>"
      ]
     },
     "metadata": {},
     "output_type": "display_data"
    },
    {
     "data": {
      "text/plain": [
       "<Figure size 4000x1000 with 0 Axes>"
      ]
     },
     "metadata": {},
     "output_type": "display_data"
    }
   ],
   "source": [
    "conteo = hechos_sinduplicados.groupby('provincia')['Id_hecho'].count().reset_index()\n",
    "\n",
    "# Ordenar las provincias por el recuento de delitos de forma descendente\n",
    "top_provincias = conteo.nlargest(5, 'Id_hecho')\n",
    "\n",
    "# Crear el gráfico de barras para las 5 provincias con mayor cantidad de delitos\n",
    "fig, ax = plt.subplots()\n",
    "sns.barplot(x='provincia', y='Id_hecho', data=top_provincias, ax=ax)\n",
    "ax.set_xlabel('Provincia')\n",
    "ax.set_ylabel('Recuento de Delitos')\n",
    "ax.set_title('Recuento de Delitos por Provincia (Top 5)')\n",
    "fig = plt.figure(figsize=(40, 10))\n",
    "\n",
    "plt.show()"
   ]
  },
  {
   "attachments": {},
   "cell_type": "markdown",
   "metadata": {},
   "source": [
    "¿Cuales son los tipos de lugares más recurrentes?"
   ]
  },
  {
   "cell_type": "code",
   "execution_count": 16,
   "metadata": {},
   "outputs": [
    {
     "data": {
      "text/plain": [
       "tipo_lugar\n",
       "Vía pública             5641\n",
       "Domicilio particular    3243\n",
       "Sin determinar          1358\n",
       "Otro lugar               390\n",
       "Comercio                 249\n",
       "Interior de rodados      140\n",
       "Carcel o comisaría        91\n",
       "Name: Id_hecho, dtype: int64"
      ]
     },
     "execution_count": 16,
     "metadata": {},
     "output_type": "execute_result"
    }
   ],
   "source": [
    "conteo = hechos_sinduplicados.groupby('tipo_lugar')['Id_hecho'].count()\n",
    "conteo.sort_values(ascending=False)"
   ]
  },
  {
   "cell_type": "code",
   "execution_count": 17,
   "metadata": {},
   "outputs": [
    {
     "data": {
      "image/png": "[encoded data removed]",
      "text/plain": [
       "<Figure size 640x480 with 1 Axes>"
      ]
     },
     "metadata": {},
     "output_type": "display_data"
    }
   ],
   "source": [
    "conteo = hechos_sinduplicados.groupby('tipo_lugar')['Id_hecho'].count().sort_values(ascending=False)\n",
    "\n",
    "fig, ax = plt.subplots()\n",
    "sns.barplot(x=conteo.index, y=conteo.values, ax=ax)\n",
    "ax.set_xlabel('Tipo de Lugar')\n",
    "ax.set_ylabel('Recuento de Delitos')\n",
    "ax.set_title('Recuento de Delitos por Tipo de Lugar')\n",
    "\n",
    "plt.xticks(rotation=90)  \n",
    "\n",
    "plt.show()"
   ]
  },
  {
   "attachments": {},
   "cell_type": "markdown",
   "metadata": {},
   "source": [
    "Teniendo en cuenta que a las 11am hay un pico de delitos, y es en Buenos Aires, se corresponde a algun lugar en particular?"
   ]
  },
  {
   "cell_type": "code",
   "execution_count": 18,
   "metadata": {},
   "outputs": [
    {
     "data": {
      "text/plain": [
       "tipo_lugar\n",
       "Vía pública             1831\n",
       "Sin determinar          1292\n",
       "Domicilio particular    1022\n",
       "Comercio                 123\n",
       "Otro lugar               119\n",
       "Interior de rodados       85\n",
       "Carcel o comisaría        28\n",
       "Name: Id_hecho, dtype: int64"
      ]
     },
     "execution_count": 18,
     "metadata": {},
     "output_type": "execute_result"
    }
   ],
   "source": [
    "conteo = hechos_sinduplicados.loc[(hechos_sinduplicados['Horaok'] == '11') & (hechos_sinduplicados['provincia'] == 'BUENOS AIRES')].groupby('tipo_lugar')['Id_hecho'].count()\n",
    "conteo.sort_values(ascending=False)"
   ]
  },
  {
   "attachments": {},
   "cell_type": "markdown",
   "metadata": {},
   "source": [
    "Como las variables son categoricas, se realizará correlacion de spearman"
   ]
  },
  {
   "cell_type": "code",
   "execution_count": 19,
   "metadata": {},
   "outputs": [
    {
     "name": "stdout",
     "output_type": "stream",
     "text": [
      "[[ 1.          0.00676281  0.02635972  0.06721199  0.24517996  0.07162785]\n",
      " [ 0.00676281  1.          0.01426638 -0.01159909  0.01006047  0.01669638]\n",
      " [ 0.02635972  0.01426638  1.          0.01588604  0.36392225  0.01255708]\n",
      " [ 0.06721199 -0.01159909  0.01588604  1.          0.05907482  0.00557662]\n",
      " [ 0.24517996  0.01006047  0.36392225  0.05907482  1.          0.03433218]\n",
      " [ 0.07162785  0.01669638  0.01255708  0.00557662  0.03433218  1.        ]]\n"
     ]
    }
   ],
   "source": [
    "from scipy.stats import spearmanr\n",
    "\n",
    "subset_columns = ['provincia', 'mes', 'anio', 'tipo_lugar', 'motivo_origen_registro', 'Horaok']\n",
    "correlation_matrix, p_values = spearmanr(hechos_sinduplicados[subset_columns])\n",
    "\n",
    "print(correlation_matrix)"
   ]
  },
  {
   "attachments": {},
   "cell_type": "markdown",
   "metadata": {},
   "source": [
    "Los resultados indican una correlación leve entre provincia y motivo de origen. También mismo tipo de relación aunque un poco más fuerte entre Año y Motivo de Origen. \n"
   ]
  }
 ],
 "metadata": {
  "kernelspec": {
   "display_name": "Python 3",
   "language": "python",
   "name": "python3"
  },
  "language_info": {
   "codemirror_mode": {
    "name": "ipython",
    "version": 3
   },
   "file_extension": ".py",
   "mimetype": "text/x-python",
   "name": "python",
   "nbconvert_exporter": "python",
   "pygments_lexer": "ipython3",
   "version": "3.11.0"
  },
  "orig_nbformat": 4
 },
 "nbformat": 4,
 "nbformat_minor": 2
}
